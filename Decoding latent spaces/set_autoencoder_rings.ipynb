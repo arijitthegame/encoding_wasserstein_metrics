{
 "cells": [
  {
   "cell_type": "code",
   "execution_count": 1,
   "metadata": {},
   "outputs": [],
   "source": [
    "import random\n",
    "import os\n",
    "import time\n",
    "import math\n",
    "import numpy as np\n",
    "from sklearn.neighbors import NearestNeighbors\n",
    "from scipy.spatial import KDTree\n",
    "from scipy.stats import wasserstein_distance\n",
    "import matplotlib\n",
    "import matplotlib.pyplot as plt\n",
    "from math import isnan\n",
    "from scipy.optimize import minimize\n",
    "import warnings\n",
    "from sklearn.neighbors import KernelDensity  # display as density curves\n",
    "\n",
    "import torch\n",
    "import torch.nn as nn\n",
    "from torch.nn import init, Module, Parameter  # PyTorch syntax for optimization problems\n",
    "import torch.nn.functional as F\n",
    "from torch.utils.data import Dataset, DataLoader\n",
    "from torch.autograd.variable import Variable\n",
    "from torch.utils.data import DataLoader\n",
    "from geomloss import SamplesLoss\n",
    "from sklearn.datasets import make_swiss_roll\n",
    "from scipy.stats import wishart\n",
    "from sklearn.utils import shuffle as util_shuffle\n",
    "import ot\n",
    "from sklearn.decomposition import PCA\n"
   ]
  },
  {
   "cell_type": "code",
   "execution_count": 2,
   "metadata": {},
   "outputs": [],
   "source": [
    "device = torch.device('cuda') if torch.cuda.is_available() else torch.device('cpu')"
   ]
  },
  {
   "cell_type": "code",
   "execution_count": 7,
   "metadata": {},
   "outputs": [],
   "source": [
    "torch.manual_seed(0)\n",
    "np.random.seed(0)"
   ]
  },
  {
   "cell_type": "code",
   "execution_count": 4,
   "metadata": {},
   "outputs": [],
   "source": [
    "#Creating ring dataset from scratch and cheating as well \n",
    "n_points = 2500"
   ]
  },
  {
   "cell_type": "code",
   "execution_count": 10,
   "metadata": {},
   "outputs": [],
   "source": [
    "linspace = np.linspace(0, 2 * np.pi, n_points, endpoint=False)"
   ]
  },
  {
   "cell_type": "code",
   "execution_count": 11,
   "metadata": {},
   "outputs": [],
   "source": [
    "x1 = np.cos(linspace)\n",
    "y1 = np.sin(linspace)"
   ]
  },
  {
   "cell_type": "code",
   "execution_count": 12,
   "metadata": {},
   "outputs": [
    {
     "data": {
      "text/plain": [
       "<matplotlib.collections.PathCollection at 0x2ae84564bdd8>"
      ]
     },
     "execution_count": 12,
     "metadata": {},
     "output_type": "execute_result"
    },
    {
     "data": {
      "image/png": "[encoded data removed]",
      "text/plain": [
       "<Figure size 432x288 with 1 Axes>"
      ]
     },
     "metadata": {
      "needs_background": "light"
     },
     "output_type": "display_data"
    }
   ],
   "source": [
    "plt.scatter(x1,y1)"
   ]
  },
  {
   "cell_type": "code",
   "execution_count": 19,
   "metadata": {},
   "outputs": [],
   "source": [
    "X1 = np.stack((x1,y1), axis=1)"
   ]
  },
  {
   "cell_type": "code",
   "execution_count": 23,
   "metadata": {},
   "outputs": [],
   "source": [
    "X11 = X1.reshape(25,100,2)"
   ]
  },
  {
   "cell_type": "code",
   "execution_count": 30,
   "metadata": {},
   "outputs": [],
   "source": [
    "x2 = .75*np.cos(linspace)\n",
    "y2 = .75*np.sin(linspace)\n",
    "X2 = np.stack((x2,y2), axis=1)\n",
    "X22 = X2.reshape(25,100,2)"
   ]
  },
  {
   "cell_type": "code",
   "execution_count": 31,
   "metadata": {},
   "outputs": [],
   "source": [
    "x3 = .5*np.cos(linspace)\n",
    "y3 = .5*np.sin(linspace)\n",
    "X3 = np.stack((x3,y3), axis=1)\n",
    "X33 = X3.reshape(25,100,2)"
   ]
  },
  {
   "cell_type": "code",
   "execution_count": 32,
   "metadata": {},
   "outputs": [],
   "source": [
    "x4 = .25*np.cos(linspace)\n",
    "y4 = .25*np.sin(linspace)\n",
    "X4 = np.stack((x4,y4), axis=1)\n",
    "X44 = X4.reshape(25,100,2)"
   ]
  },
  {
   "cell_type": "code",
   "execution_count": 38,
   "metadata": {},
   "outputs": [],
   "source": [
    "X = np.concatenate([X11,X22,X33,X44], axis=0)"
   ]
  },
  {
   "cell_type": "code",
   "execution_count": 4,
   "metadata": {},
   "outputs": [],
   "source": [
    "##### Next 2 cells to create the toy datasets in Convex Flows paper. \n",
    "\n",
    "Log2PI = float(np.log(2 * np.pi))\n",
    "\n",
    "def log_normal(x, mean, log_var, eps=0.00001):\n",
    "    z = - 0.5 * Log2PI\n",
    "    return - (x - mean) ** 2 / (2. * torch.exp(log_var) + eps) - log_var / 2. + z\n",
    "\n",
    "\n",
    "def log_standard_normal(x):\n",
    "    z = - 0.5 * Log2PI\n",
    "    return - x ** 2 / 2 + z\n"
   ]
  },
  {
   "cell_type": "code",
   "execution_count": 5,
   "metadata": {},
   "outputs": [],
   "source": [
    "class ToyDataset(Dataset):\n",
    "    data = dict()\n",
    "    data_names = []\n",
    "\n",
    "    def __init_subclass__(cls, **kwargs):\n",
    "        super().__init_subclass__(**kwargs)\n",
    "        cls.data[cls.__name__] = cls\n",
    "        cls.data_names.append(cls.__name__)\n",
    "\n",
    "    def __init__(self, n=50000):\n",
    "        self.data = self.sample(n)\n",
    "\n",
    "    def sample(self, batch_size):\n",
    "        raise NotImplementedError\n",
    "\n",
    "    def __getitem__(self, index):\n",
    "        return self.data[index]\n",
    "\n",
    "    def __len__(self):\n",
    "        return len(self.data)\n",
    "\n",
    "\n",
    "class SwissRoll(ToyDataset):\n",
    "    \"\"\"\n",
    "    Swiss roll distribution sampler.\n",
    "    noise control the amount of noise injected to make a thicker swiss roll\n",
    "    \"\"\"\n",
    "    def sample(self, batch_size, noise=0.5):\n",
    "        return torch.from_numpy(\n",
    "            make_swiss_roll(batch_size, noise)[0][:, [0, 2]].astype('float64') / 5.)\n",
    "\n",
    "\n",
    "# taken from https://github.com/nicola-decao/BNAF/blob/master/data/generate2d.py\n",
    "class TwoSpirals(ToyDataset):\n",
    "    def sample(self, batch_size):\n",
    "        n = np.sqrt(np.random.rand(batch_size // 2, 1)) * 540 * (2 * np.pi) / 360\n",
    "        d1x = -np.cos(n) * n + np.random.rand(batch_size // 2, 1) * 0.5\n",
    "        d1y = np.sin(n) * n + np.random.rand(batch_size // 2, 1) * 0.5\n",
    "        x = np.vstack((np.hstack((d1x, d1y)), np.hstack((-d1x, -d1y)))) / 3\n",
    "        x += np.random.randn(*x.shape) * 0.1\n",
    "        return torch.from_numpy(x).float()\n",
    "\n",
    "\n",
    "class EightGaussian(ToyDataset):\n",
    "    def sample(self, batch_size, return_idx=False):\n",
    "        scale = 4.\n",
    "        centers = [(1, 0), (-1, 0), (0, 1), (0, -1), (1. / np.sqrt(2), 1. / np.sqrt(2)),\n",
    "                   (1. / np.sqrt(2), -1. / np.sqrt(2)), (-1. / np.sqrt(2),\n",
    "                                                         1. / np.sqrt(2)), (-1. / np.sqrt(2), -1. / np.sqrt(2))]\n",
    "        centers = [(scale * x, scale * y) for x, y in centers]\n",
    "\n",
    "        dataset = []\n",
    "        indices = []\n",
    "        for i in range(batch_size):\n",
    "            point = np.random.randn(2) * 0.5\n",
    "            idx = np.random.randint(8)\n",
    "            center = centers[idx]\n",
    "            point[0] += center[0]\n",
    "            point[1] += center[1]\n",
    "            dataset.append(point)\n",
    "            indices.append(idx)\n",
    "        dataset = np.array(dataset, dtype='float32')\n",
    "        dataset /= 1.414\n",
    "        if return_idx:\n",
    "            return torch.from_numpy(dataset), torch.from_numpy(np.array(indices))\n",
    "        else:\n",
    "            return torch.from_numpy(dataset)\n",
    "\n",
    "\n",
    "class Rings(ToyDataset):\n",
    "    def sample(self, batch_size):\n",
    "        n_samples4 = n_samples3 = n_samples2 = batch_size // 4\n",
    "        n_samples1 = batch_size - n_samples4 - n_samples3 - n_samples2\n",
    "\n",
    "        # so as not to have the first point = last point, we set endpoint=False\n",
    "        linspace4 = np.linspace(0, 2 * np.pi, n_samples4, endpoint=False)\n",
    "        linspace3 = np.linspace(0, 2 * np.pi, n_samples3, endpoint=False)\n",
    "        linspace2 = np.linspace(0, 2 * np.pi, n_samples2, endpoint=False)\n",
    "        linspace1 = np.linspace(0, 2 * np.pi, n_samples1, endpoint=False)\n",
    "\n",
    "        circ4_x = np.cos(linspace4)\n",
    "        circ4_y = np.sin(linspace4)\n",
    "        circ3_x = np.cos(linspace4) * 0.75\n",
    "        circ3_y = np.sin(linspace3) * 0.75\n",
    "        circ2_x = np.cos(linspace2) * 0.5\n",
    "        circ2_y = np.sin(linspace2) * 0.5\n",
    "        circ1_x = np.cos(linspace1) * 0.25\n",
    "        circ1_y = np.sin(linspace1) * 0.25\n",
    "\n",
    "        X = np.vstack([\n",
    "            np.hstack([circ4_x, circ3_x, circ2_x, circ1_x]),\n",
    "            np.hstack([circ4_y, circ3_y, circ2_y, circ1_y])\n",
    "        ]).T * 3.0\n",
    "        X = util_shuffle(X)\n",
    "\n",
    "        # Add noise\n",
    "      #  X = X + np.random.normal(scale=0.08, size=X.shape)\n",
    "\n",
    "  #screwing with shapes to work out in my case batch size is divisible by 100\n",
    "        X = torch.from_numpy(X.astype(\"float32\"))\n",
    "       # return X.reshape(500, 100, 2)\n",
    "        return X\n",
    "\n",
    "\n",
    "class MAFMoon(ToyDataset):\n",
    "    def sample(self, batch_size):\n",
    "        x = torch.randn(batch_size, 2)\n",
    "        x[:,0] += x[:,1] ** 2\n",
    "        x[:,0] /= 2\n",
    "        x[:,0] -= 2\n",
    "        return x\n",
    "\n",
    "\n",
    "def gaussian_sampler(mean, log_var):\n",
    "    sigma = torch.exp(0.5*log_var)\n",
    "    return torch.randn(*mean.shape) * sigma + mean\n",
    "\n",
    "\n",
    "class OneDMixtureOfGaussians(ToyDataset):\n",
    "    \"\"\"\n",
    "    Mixture of Gaussians:\n",
    "        x ~ p(x; pi) = pi N(m1, var) + (1-pi) N(m2, var)\n",
    "        with pi ~ uniform(0,1)\n",
    "    \"\"\"\n",
    "\n",
    "    m1 = 2 * torch.ones(1)\n",
    "    m2 = -2 * torch.ones(1)\n",
    "    log_var = -1 * torch.ones(1)\n",
    "\n",
    "    def sample(self, batch_size):\n",
    "        m1 = torch.ones(batch_size, 1) * self.m1\n",
    "        m2 = torch.ones(batch_size, 1) * self.m2\n",
    "        log_var = torch.ones(batch_size, 1) * self.log_var\n",
    "        s1 = gaussian_sampler(m1, log_var)\n",
    "        s2 = gaussian_sampler(m2, log_var)\n",
    "        pi = torch.rand(batch_size, 1)\n",
    "        mask = torch.le(torch.rand(batch_size, 1), pi).float()\n",
    "        return torch.cat([mask * s1 + (1-mask) * s2, pi], 1)\n",
    "\n",
    "    def logp(self, x, pi):\n",
    "        log_pi1 = np.log(pi)\n",
    "        log_pi2 = np.log(1-pi)\n",
    "        lp1 = log_normal(x, self.m1, self.log_var)\n",
    "        lp2 = log_normal(x, self.m2, self.log_var)\n",
    "        return torch.logsumexp(torch.cat([lp1+log_pi1, lp2+log_pi2], 1), 1)\n",
    "\n",
    "    def plot_logp(self):\n",
    "        import matplotlib.pyplot as plt\n",
    "        xx = torch.linspace(-5, 5, 1000).unsqueeze(1)\n",
    "        for pi in np.linspace(0.1, 0.9, 11):\n",
    "            p = torch.exp(self.logp(xx, pi)).data.numpy()\n",
    "            plt.plot(xx, p)\n",
    "\n",
    "\n",
    "class Gaussian(ToyDataset):\n",
    "\n",
    "    def __init__(self, n, dim=2, m=None, C=None):\n",
    "        if m is None:\n",
    "            m = np.random.randn(dim)\n",
    "        if C is None:\n",
    "            C = wishart.rvs(dim+1, np.identity(dim), 1)\n",
    "        self.m = m\n",
    "        self.C = C\n",
    "        super(Gaussian, self).__init__(n)\n",
    "\n",
    "    def sample(self, batch_size):\n",
    "        return torch.from_numpy(np.random.multivariate_normal(self.m, self.C, batch_size)).float()\n",
    "\n",
    "    @property\n",
    "    def entropy(self):\n",
    "        return 0.5 * np.linalg.slogdet(2*np.pi*np.exp(1)*self.C)[1]\n",
    "\n"
   ]
  },
  {
   "cell_type": "code",
   "execution_count": 66,
   "metadata": {},
   "outputs": [],
   "source": [
    "# x = torch.rand(2, 100, 1)\n",
    "# y = torch.rand(2, 100, 1)\n",
    "# Define a Sinkhorn (~Wasserstein) loss between sampled measures\n",
    "loss = SamplesLoss(loss='sinkhorn',debias=False, p=1, blur=1e-3, scaling=0.999, backend='auto').to(device)\n",
    "#The EMD loss as is explained in the github issues"
   ]
  },
  {
   "cell_type": "code",
   "execution_count": 41,
   "metadata": {},
   "outputs": [],
   "source": [
    "class DeepSet(nn.Module):\n",
    "\n",
    "    def __init__(self, in_features, set_features):\n",
    "        super(DeepSet, self).__init__()\n",
    "        self.in_features = in_features\n",
    "        self.out_features = set_features\n",
    "        self.feature_extractor = nn.Sequential(\n",
    "            nn.Linear(in_features, 50),\n",
    "            nn.ELU(inplace=True),\n",
    "            nn.Linear(50, 100),\n",
    "            nn.ELU(inplace=True),\n",
    "            nn.Linear(100, set_features)\n",
    "        )\n",
    "\n",
    "        self.regressor = nn.Sequential(\n",
    "            nn.Linear(set_features, 128),\n",
    "            nn.ELU(inplace=True),\n",
    "            nn.Linear(128, 64),\n",
    "            nn.ELU(inplace=True),\n",
    "            nn.Linear(64, 16),\n",
    "            nn.ELU(inplace=True),\n",
    "            nn.Linear(16, 6),\n",
    "        )\n",
    "        \n",
    "        \n",
    "    def forward(self, input):\n",
    "        x = input\n",
    "        x = self.feature_extractor(x)\n",
    "        x = x.sum(dim=1)\n",
    "        x = self.regressor(x)\n",
    "        return x\n"
   ]
  },
  {
   "cell_type": "code",
   "execution_count": 43,
   "metadata": {},
   "outputs": [],
   "source": [
    "class SinkhornDistance(nn.Module):\n",
    "    r\"\"\"\n",
    "    Given two empirical measures each with :math:`P_1` locations\n",
    "    :math:`x\\in\\mathbb{R}^{D_1}` and :math:`P_2` locations :math:`y\\in\\mathbb{R}^{D_2}`,\n",
    "    outputs an approximation of the regularized OT cost for point clouds.\n",
    "    Args:\n",
    "        eps (float): regularization coefficient\n",
    "        max_iter (int): maximum number of Sinkhorn iterations\n",
    "        reduction (string, optional): Specifies the reduction to apply to the output:\n",
    "            'none' | 'mean' | 'sum'. 'none': no reduction will be applied,\n",
    "            'mean': the sum of the output will be divided by the number of\n",
    "            elements in the output, 'sum': the output will be summed. Default: 'none'\n",
    "    Shape:\n",
    "        - Input: :math:`(N, P_1, D_1)`, :math:`(N, P_2, D_2)`\n",
    "        - Output: :math:`(N)` or :math:`()`, depending on `reduction`\n",
    "    \"\"\"\n",
    "    def __init__(self, eps, max_iter, reduction='none'):\n",
    "        super(SinkhornDistance, self).__init__()\n",
    "        self.eps = eps\n",
    "        self.max_iter = max_iter\n",
    "        self.reduction = reduction\n",
    "\n",
    "    def forward(self, x, y):\n",
    "        # The Sinkhorn algorithm takes as input three variables :\n",
    "        C = self._cost_matrix(x, y)  # Wasserstein cost function\n",
    "        x_points = x.shape[-2]\n",
    "        y_points = y.shape[-2]\n",
    "        if x.dim() == 2:\n",
    "            batch_size = 1\n",
    "        else:\n",
    "            batch_size = x.shape[0]\n",
    "\n",
    "        # both marginals are fixed with equal weights\n",
    "        mu = torch.empty(batch_size, x_points, dtype=torch.float,\n",
    "                         requires_grad=False).fill_(1.0 / x_points).to(device).squeeze()\n",
    "        nu = torch.empty(batch_size, y_points, dtype=torch.float,\n",
    "                         requires_grad=False).fill_(1.0 / y_points).to(device).squeeze()\n",
    "\n",
    "        u = torch.zeros_like(mu).to(device)\n",
    "        v = torch.zeros_like(nu).to(device)\n",
    "        # To check if algorithm terminates because of threshold\n",
    "        # or max iterations reached\n",
    "        actual_nits = 0\n",
    "        # Stopping criterion\n",
    "        thresh = 1e-1\n",
    "\n",
    "        # Sinkhorn iterations\n",
    "        for i in range(self.max_iter):\n",
    "            u1 = u  # useful to check the update\n",
    "            u = self.eps * (torch.log(mu+1e-8) - torch.logsumexp(self.M(C, u, v), dim=-1)) + u\n",
    "            v = self.eps * (torch.log(nu+1e-8) - torch.logsumexp(self.M(C, u, v).transpose(-2, -1), dim=-1)) + v\n",
    "            err = (u - u1).abs().sum(-1).mean()\n",
    "\n",
    "            actual_nits += 1\n",
    "            if err.item() < thresh:\n",
    "                break\n",
    "\n",
    "        U, V = u, v\n",
    "        # Transport plan pi = diag(a)*K*diag(b)\n",
    "        pi = torch.exp(self.M(C, U, V))\n",
    "        # Sinkhorn distance\n",
    "        cost = torch.sum(pi * C, dim=(-2, -1))\n",
    "\n",
    "        if self.reduction == 'mean':\n",
    "            cost = cost.mean()\n",
    "        elif self.reduction == 'sum':\n",
    "            cost = cost.sum()\n",
    "\n",
    "      #  return cost, pi, C\n",
    "        return cost\n",
    "\n",
    "    def M(self, C, u, v):\n",
    "        \"Modified cost for logarithmic updates\"\n",
    "        \"$M_{ij} = (-c_{ij} + u_i + v_j) / \\epsilon$\"\n",
    "        return (-C + u.unsqueeze(-1) + v.unsqueeze(-2)) / self.eps\n",
    "\n",
    "    @staticmethod\n",
    "    def _cost_matrix(x, y, p=2):\n",
    "        \"Returns the matrix of $|x_i-y_j|^p$.\"\n",
    "        x_col = x.unsqueeze(-2)\n",
    "        y_lin = y.unsqueeze(-3)\n",
    "        C = torch.sum((torch.abs(x_col - y_lin)) ** p, -1)\n",
    "        return C\n",
    "\n",
    "    @staticmethod\n",
    "    def ave(u, u1, tau):\n",
    "        \"Barycenter subroutine, used by kinetic acceleration through extrapolation.\"\n",
    "        return tau * u + (1 - tau) * u1\n"
   ]
  },
  {
   "cell_type": "code",
   "execution_count": 44,
   "metadata": {},
   "outputs": [],
   "source": [
    "sinkhorn = SinkhornDistance(eps=0.1, max_iter=100, reduction=None).to(device)"
   ]
  },
  {
   "cell_type": "code",
   "execution_count": 45,
   "metadata": {},
   "outputs": [],
   "source": [
    "class MyDataset(Dataset):\n",
    "    def __init__(self, data, transform=None):\n",
    "        self.data = data.float()\n",
    "        \n",
    "        self.transform = transform\n",
    "\n",
    "    def __getitem__(self, index):\n",
    "        x = self.data[index]\n",
    "        \n",
    "        if self.transform:\n",
    "            x = self.transform(x)\n",
    "           \n",
    "        return x\n",
    "\n",
    "    def __len__(self):\n",
    "        return len(self.data)\n",
    "    "
   ]
  },
  {
   "cell_type": "code",
   "execution_count": 50,
   "metadata": {},
   "outputs": [],
   "source": [
    "dataset = MyDataset(torch.from_numpy(X))\n",
    "loader = DataLoader(dataset, batch_size = 32, shuffle = True)"
   ]
  },
  {
   "cell_type": "code",
   "execution_count": 15,
   "metadata": {},
   "outputs": [],
   "source": [
    "# dataset = 'Rings' \n",
    "# ToyData = ToyDataset.data[dataset]\n",
    "# loader = DataLoader(ToyData(50000), batch_size = 20, shuffle = True)"
   ]
  },
  {
   "cell_type": "code",
   "execution_count": 46,
   "metadata": {},
   "outputs": [],
   "source": [
    "# def optimizer_to(optim, device):\n",
    "#     for param in optim.state.values():\n",
    "#         # Not sure there are any global tensors in the state dict\n",
    "#         if isinstance(param, torch.Tensor):\n",
    "#             param.data = param.data.to(device)\n",
    "#             if param._grad is not None:\n",
    "#                 param._grad.data = param._grad.data.to(device)\n",
    "#         elif isinstance(param, dict):\n",
    "#             for subparam in param.values():\n",
    "#                 if isinstance(subparam, torch.Tensor):\n",
    "#                     subparam.data = subparam.data.to(device)\n",
    "#                     if subparam._grad is not None:\n",
    "#                         subparam._grad.data = subparam._grad.data.to(device)"
   ]
  },
  {
   "cell_type": "code",
   "execution_count": 47,
   "metadata": {},
   "outputs": [
    {
     "data": {
      "text/plain": [
       "DeepSet(\n",
       "  (feature_extractor): Sequential(\n",
       "    (0): Linear(in_features=2, out_features=50, bias=True)\n",
       "    (1): ELU(alpha=1.0, inplace=True)\n",
       "    (2): Linear(in_features=50, out_features=100, bias=True)\n",
       "    (3): ELU(alpha=1.0, inplace=True)\n",
       "    (4): Linear(in_features=100, out_features=36, bias=True)\n",
       "  )\n",
       "  (regressor): Sequential(\n",
       "    (0): Linear(in_features=36, out_features=128, bias=True)\n",
       "    (1): ELU(alpha=1.0, inplace=True)\n",
       "    (2): Linear(in_features=128, out_features=64, bias=True)\n",
       "    (3): ELU(alpha=1.0, inplace=True)\n",
       "    (4): Linear(in_features=64, out_features=16, bias=True)\n",
       "    (5): ELU(alpha=1.0, inplace=True)\n",
       "    (6): Linear(in_features=16, out_features=6, bias=True)\n",
       "  )\n",
       ")"
      ]
     },
     "execution_count": 47,
     "metadata": {},
     "output_type": "execute_result"
    }
   ],
   "source": [
    "encoder = DeepSet(2, 36)\n",
    "optimizer_encoder = torch.optim.Adam(encoder.parameters(), lr=0.001)\n",
    "encoder.to(device)\n",
    "# checkpoint = torch.load('autoencoder_encoder_unstructured.pt')\n",
    "# encoder.load_state_dict(checkpoint['model_state_dict'])\n",
    "#encoder.to(device)\n",
    "\n",
    "# torch.cuda.empty_cache()\n",
    "# optimizer_encoder.load_state_dict(checkpoint['optimizer_state_dict'])\n",
    "# optimizer_to(optimizer_encoder,device)\n",
    "\n",
    "# loss = checkpoint['loss']\n",
    "\n",
    "# # # model.load_state_dict(torch.load('deepset_dist_flat1.pkl'))\n",
    "# encoder.train()\n",
    "\n",
    "# model.eval()"
   ]
  },
  {
   "cell_type": "code",
   "execution_count": 48,
   "metadata": {},
   "outputs": [],
   "source": [
    "class MLPDecoder(nn.Module):\n",
    "    def __init__(self, input_channels, output_channels, set_size):\n",
    "        super().__init__()\n",
    "        self.output_channels = output_channels\n",
    "        self.input_channels = input_channels\n",
    "      \n",
    "        self.set_size = set_size\n",
    "        self.model = nn.Sequential(\n",
    "            nn.Linear(input_channels, 16),\n",
    "            nn.ELU(inplace=True),\n",
    "            nn.Linear(16, 32),\n",
    "            nn.ELU(inplace=True),\n",
    "            nn.Dropout(p=.5),\n",
    "            nn.Linear(32, 128),\n",
    "            nn.ELU(inplace=True),\n",
    "            nn.Dropout(p=.5),\n",
    "            nn.Linear(128, 256),\n",
    "            nn.ELU(inplace=True),\n",
    "            nn.Dropout(p=.5),\n",
    "#             nn.Linear(36, 100),\n",
    "#             nn.ELU(inplace=True),\n",
    "#             nn.Linear(100, 256),\n",
    "#             nn.Dropout(p=.5),\n",
    "#             nn.ELU(inplace=True),\n",
    "            nn.Linear(256, output_channels*set_size)\n",
    "        \n",
    "        )\n",
    "        \n",
    "\n",
    "\n",
    "    def forward(self, x):\n",
    "        x = x.view(x.size(0), -1)\n",
    "        x = self.model(x)\n",
    "        x = x.view(x.size(0), self.set_size, self.output_channels)\n",
    "        \n",
    "        return x"
   ]
  },
  {
   "cell_type": "code",
   "execution_count": 49,
   "metadata": {},
   "outputs": [
    {
     "data": {
      "text/plain": [
       "MLPDecoder(\n",
       "  (model): Sequential(\n",
       "    (0): Linear(in_features=6, out_features=16, bias=True)\n",
       "    (1): ELU(alpha=1.0, inplace=True)\n",
       "    (2): Linear(in_features=16, out_features=32, bias=True)\n",
       "    (3): ELU(alpha=1.0, inplace=True)\n",
       "    (4): Dropout(p=0.5, inplace=False)\n",
       "    (5): Linear(in_features=32, out_features=128, bias=True)\n",
       "    (6): ELU(alpha=1.0, inplace=True)\n",
       "    (7): Dropout(p=0.5, inplace=False)\n",
       "    (8): Linear(in_features=128, out_features=256, bias=True)\n",
       "    (9): ELU(alpha=1.0, inplace=True)\n",
       "    (10): Dropout(p=0.5, inplace=False)\n",
       "    (11): Linear(in_features=256, out_features=200, bias=True)\n",
       "  )\n",
       ")"
      ]
     },
     "execution_count": 49,
     "metadata": {},
     "output_type": "execute_result"
    }
   ],
   "source": [
    "decoder = MLPDecoder(6,2,100)\n",
    "optimizer_decoder = torch.optim.Adam(decoder.parameters(), lr=0.001, weight_decay=.001)\n",
    "decoder.to(device)\n",
    "# checkpoint = torch.load('autoencoder_decoder_unstructured.pt')\n",
    "# decoder.load_state_dict(checkpoint['model_state_dict'])\n",
    "# # decoder.to(device)\n",
    "\n",
    "# torch.cuda.empty_cache()\n",
    "# optimizer_decoder.load_state_dict(checkpoint['optimizer_state_dict'])\n",
    "# optimizer_to(optimizer_decoder,device)\n",
    "# loss = checkpoint['loss']\n",
    "\n",
    "# decoder.train()\n"
   ]
  },
  {
   "cell_type": "code",
   "execution_count": 41,
   "metadata": {},
   "outputs": [],
   "source": [
    "# def calculate_loss(batch, n_data, a, y, y_a, y_translate):\n",
    "#     loss = [0,0,0]\n",
    "#     y_norm = torch.pdist(y)\n",
    "#     n_data_pairwise_1 = []\n",
    "#     n_data_pairwise_2 = []\n",
    "#     for i in range(len(batch)):\n",
    "#         for j in range(i+1,len(batch)):\n",
    "#             n_data_pairwise_1.append(n_data[i])\n",
    "#             n_data_pairwise_2.append(n_data[j])\n",
    "#     n_data_pairwise_1 = torch.stack(n_data_pairwise_1)\n",
    "#     n_data_pairwise_2 = torch.stack(n_data_pairwise_2)\n",
    "#     w_norm = sinkhorn(n_data_pairwise_2, n_data_pairwise_1)\n",
    "#     y_a_norm = torch.pdist(y_a)\n",
    "#     y_translate_norm = torch.pdist(y_translate)\n",
    "#     loss[0] = (y_norm - w_norm).abs().sum()\n",
    "#     loss[1] = ((y_a_norm - a * y_norm) ** 2).sum()\n",
    "#     loss[2] = ((y_translate_norm - y_norm) ** 2).sum()\n",
    "#     loss = sum(loss)\n",
    "#     del w_norm\n",
    "#     return loss"
   ]
  },
  {
   "cell_type": "code",
   "execution_count": 67,
   "metadata": {},
   "outputs": [
    {
     "name": "stdout",
     "output_type": "stream",
     "text": [
      "0.19465480744838715 0.19199234247207642\n",
      "0.2358497828245163 0.5935378074645996\n",
      "0.15968932211399078 0.9661762714385986\n",
      "0.18187105655670166 0.22710619866847992\n",
      "0.22042827308177948 0.9244383573532104\n",
      "0.340267151594162 2.5403239727020264\n",
      "0.3556671738624573 5.558732032775879\n",
      "0.17644457519054413 0.35634368658065796\n",
      "0.12620818614959717 1.2885546684265137\n",
      "0.4765518605709076 2.3498992919921875\n",
      "0.3987867832183838 1.4699406623840332\n",
      "0.21550874412059784 0.42882484197616577\n",
      "0.15669146180152893 4.795144081115723\n",
      "0.21704846620559692 1.1251497268676758\n",
      "0.3407750725746155 0.7415241003036499\n",
      "0.32295656204223633 1.919022798538208\n",
      "0.37847256660461426 0.5787813663482666\n",
      "0.4339038133621216 1.8774337768554688\n",
      "0.34819430112838745 0.6372545957565308\n",
      "0.36711081862449646 0.6392532587051392\n",
      "0.32603543996810913 1.107908844947815\n",
      "0.29921579360961914 1.842969536781311\n",
      "0.24379877746105194 1.790820598602295\n",
      "0.2467627227306366 2.761446475982666\n",
      "0.3228123188018799 3.1108412742614746\n",
      "0.20252668857574463 0.9339599609375\n",
      "0.32170724868774414 0.7940791249275208\n",
      "0.3616673946380615 2.0096287727355957\n",
      "0.4014703631401062 0.900523841381073\n",
      "0.33645233511924744 0.7480177283287048\n",
      "0.27060139179229736 2.3149211406707764\n",
      "0.17962297797203064 0.6166814565658569\n",
      "0.2608260214328766 0.5157994031906128\n",
      "0.40083181858062744 1.2014365196228027\n",
      "0.35881921648979187 1.594635009765625\n",
      "0.22272151708602905 0.8249397277832031\n",
      "0.26504525542259216 0.3660173714160919\n",
      "0.24355068802833557 0.8906102180480957\n",
      "0.2300780862569809 0.19311153888702393\n",
      "0.17634877562522888 1.1158796548843384\n",
      "0.3305506706237793 0.3899826407432556\n",
      "0.27065178751945496 0.22080793976783752\n",
      "0.21318426728248596 0.326471745967865\n",
      "0.3447912335395813 0.9207524061203003\n",
      "0.419127881526947 0.13684575259685516\n",
      "0.600196897983551 0.7391800880432129\n",
      "0.3021833598613739 0.7532719373703003\n",
      "0.2304304838180542 0.27959108352661133\n",
      "0.3432730436325073 0.21173729002475739\n",
      "0.1956719160079956 1.4419406652450562\n",
      "0.22801421582698822 0.5024290680885315\n",
      "0.5624641180038452 0.1285444051027298\n",
      "0.2536645233631134 0.3358750343322754\n",
      "0.2854154706001282 0.014508922584354877\n",
      "0.22717347741127014 0.276505708694458\n",
      "0.3626365661621094 0.458158016204834\n",
      "0.3348200023174286 0.1885634958744049\n",
      "0.18943361937999725 0.35921961069107056\n",
      "0.2293979376554489 1.1306642293930054\n",
      "0.26232022047042847 0.2813252806663513\n",
      "0.34132981300354004 0.8617379665374756\n",
      "0.8477094173431396 1.1765899658203125\n",
      "0.26178786158561707 0.05786743015050888\n",
      "0.3182770609855652 1.4233934879302979\n",
      "0.3884046971797943 1.1965019702911377\n",
      "0.3002331256866455 0.5911074876785278\n",
      "0.23091787099838257 0.3249174952507019\n",
      "0.14751990139484406 0.35190582275390625\n",
      "0.3941594958305359 1.4280401468276978\n",
      "0.827156662940979 0.5321564078330994\n",
      "0.3553106188774109 0.15282025933265686\n",
      "0.5557416677474976 0.7720357179641724\n",
      "0.2581220865249634 0.4328077435493469\n",
      "0.1271601915359497 0.8235054612159729\n",
      "1.0539140701293945 0.955959677696228\n",
      "0.4868466258049011 1.4213123321533203\n",
      "0.2170315980911255 1.4615778923034668\n",
      "0.26900070905685425 0.11382528394460678\n",
      "0.4149278998374939 0.2654407322406769\n",
      "0.32980942726135254 0.0790911614894867\n",
      "0.2585640549659729 0.5010485649108887\n",
      "0.5811536908149719 0.3431733250617981\n",
      "0.7426131963729858 0.9053630232810974\n",
      "0.3669372797012329 0.6787624359130859\n",
      "0.29400986433029175 0.40907126665115356\n",
      "0.37769660353660583 0.4729645252227783\n",
      "0.2575620412826538 0.9092298150062561\n",
      "0.20402038097381592 0.14968577027320862\n",
      "0.2548522651195526 0.2597695291042328\n",
      "0.2111779898405075 2.383732318878174\n",
      "0.2339114546775818 0.4545072317123413\n",
      "0.24835205078125 1.775153398513794\n",
      "0.23034632205963135 0.6838980317115784\n",
      "0.6178970336914062 0.9103555679321289\n",
      "0.5052063465118408 1.7541611194610596\n",
      "0.30957815051078796 0.4619196653366089\n",
      "0.47064122557640076 0.3541189432144165\n",
      "0.3198542594909668 0.11055537313222885\n",
      "0.30192527174949646 0.29401451349258423\n",
      "0.15378236770629883 0.08193543553352356\n",
      "0.26237738132476807 0.4230099022388458\n",
      "0.15485680103302002 0.22544977068901062\n",
      "0.2326514720916748 0.7684778571128845\n",
      "0.14898857474327087 0.3549681305885315\n",
      "0.17794251441955566 0.12474959343671799\n",
      "0.3700951039791107 1.4361547231674194\n",
      "0.2816980481147766 0.2105681598186493\n",
      "0.45067667961120605 0.43530207872390747\n",
      "0.33437296748161316 0.26616403460502625\n",
      "0.3257122039794922 0.5342921018600464\n",
      "0.29530543088912964 0.6430818438529968\n",
      "0.5443926453590393 0.9580736756324768\n",
      "0.22632119059562683 0.21944540739059448\n",
      "0.19365082681179047 0.28670021891593933\n",
      "0.327279269695282 0.08398662507534027\n",
      "0.16658662259578705 0.3139778971672058\n",
      "0.38516902923583984 0.3376421630382538\n",
      "0.39183157682418823 0.09306659549474716\n",
      "0.20285043120384216 0.30301904678344727\n",
      "0.18247374892234802 0.2578943371772766\n",
      "0.48884162306785583 0.11334957182407379\n",
      "0.38212236762046814 0.36082783341407776\n",
      "0.5006107091903687 0.10592913627624512\n",
      "0.5882067680358887 1.0666563510894775\n",
      "0.21723049879074097 0.14519372582435608\n",
      "0.20410728454589844 0.23057039082050323\n",
      "0.29709964990615845 0.28003832697868347\n",
      "0.08452051132917404 0.5918777585029602\n",
      "0.14911143481731415 0.5949274897575378\n",
      "0.5308630466461182 0.5985193848609924\n",
      "0.2636934518814087 0.26440489292144775\n",
      "0.42451733350753784 0.08781929314136505\n",
      "0.5037069916725159 0.7557390928268433\n",
      "0.521435558795929 0.7177624106407166\n",
      "0.5524991750717163 0.6654574275016785\n",
      "0.40448054671287537 1.1388534307479858\n",
      "0.29474079608917236 0.23368452489376068\n",
      "0.33722755312919617 1.161232352256775\n",
      "0.3859522044658661 0.5072838068008423\n",
      "0.6000917553901672 0.5615220665931702\n",
      "0.5186668634414673 0.8756676316261292\n",
      "0.3199760913848877 0.8931964635848999\n",
      "0.4418441951274872 1.360669493675232\n",
      "0.2835835814476013 0.6072221994400024\n",
      "0.6121174097061157 2.1000430583953857\n",
      "0.38322514295578003 0.7010795474052429\n",
      "0.2975834608078003 0.357015460729599\n",
      "0.25318336486816406 0.12106870859861374\n",
      "0.2265235036611557 0.45316600799560547\n",
      "0.1843191683292389 0.08911578357219696\n",
      "0.2570282518863678 0.3712538778781891\n",
      "0.20152249932289124 0.5792593955993652\n",
      "0.20850788056850433 0.5520921349525452\n",
      "0.4681997299194336 0.8030060529708862\n",
      "0.24251358211040497 0.7008947134017944\n",
      "0.43814265727996826 1.025306224822998\n",
      "0.25450456142425537 0.569139838218689\n",
      "0.2880420386791229 0.38321173191070557\n",
      "0.332183301448822 1.8488179445266724\n",
      "0.31722480058670044 0.4337182641029358\n",
      "0.21504120528697968 0.4227208197116852\n",
      "0.3666921854019165 0.06227554380893707\n",
      "0.353554368019104 0.24706730246543884\n",
      "0.320832759141922 0.16406629979610443\n",
      "0.2659238278865814 0.078021340072155\n",
      "0.22979992628097534 0.2771713137626648\n",
      "0.24154864251613617 0.05799935385584831\n",
      "0.20835083723068237 0.08037513494491577\n",
      "0.3484320342540741 0.06026832386851311\n",
      "0.5849196314811707 0.4762113094329834\n",
      "0.6490009427070618 0.2319234013557434\n",
      "0.12126801908016205 0.5203098058700562\n",
      "0.15611162781715393 0.7442049384117126\n",
      "0.3792658746242523 0.40598493814468384\n",
      "0.23839697241783142 0.733248233795166\n",
      "0.2669644355773926 0.06311330199241638\n",
      "0.20250415802001953 0.2672119736671448\n",
      "0.35681280493736267 0.972258985042572\n",
      "0.16268381476402283 0.23634696006774902\n",
      "0.7284408807754517 0.16959890723228455\n",
      "0.2992677390575409 0.214824378490448\n",
      "0.2499852031469345 0.33023396134376526\n",
      "0.48890286684036255 2.520156145095825\n",
      "0.3805776834487915 0.13853749632835388\n",
      "0.2981463074684143 1.2291035652160645\n",
      "0.5547951459884644 1.0178616046905518\n",
      "0.34723788499832153 0.8880515694618225\n",
      "0.7065151929855347 1.1187011003494263\n",
      "0.2973100244998932 1.1489323377609253\n",
      "0.5331969261169434 0.37845420837402344\n",
      "0.25691089034080505 0.5154266357421875\n",
      "0.2799067199230194 1.2647689580917358\n",
      "0.2150876224040985 0.2286280393600464\n",
      "0.203892320394516 0.8347121477127075\n",
      "0.49277445673942566 0.0980038046836853\n",
      "0.39491474628448486 0.09477774053812027\n",
      "0.40432047843933105 0.2111702263355255\n",
      "0.31313785910606384 0.3260594308376312\n",
      "0.15879875421524048 0.22713527083396912\n",
      "0.7210915088653564 0.3327995538711548\n",
      "0.22595974802970886 0.028414299711585045\n",
      "0.36282557249069214 0.7690051198005676\n",
      "0.17274069786071777 0.043099042028188705\n",
      "0.3498466908931732 1.0427148342132568\n",
      "0.17821413278579712 0.17654404044151306\n",
      "0.33910176157951355 0.1620660424232483\n",
      "0.270500123500824 0.04828318580985069\n",
      "0.19282102584838867 0.162274569272995\n",
      "0.23076188564300537 0.31975293159484863\n",
      "0.49616071581840515 0.618354856967926\n",
      "0.5708117485046387 0.3393607437610626\n",
      "0.2894110083580017 0.09488080441951752\n",
      "0.7633970975875854 0.18685896694660187\n"
     ]
    },
    {
     "name": "stdout",
     "output_type": "stream",
     "text": [
      "0.18976876139640808 0.10150466859340668\n",
      "0.355571985244751 0.060711733996868134\n",
      "0.43528300523757935 0.744275689125061\n",
      "0.18565580248832703 0.05875710770487785\n",
      "0.24163591861724854 1.01668119430542\n",
      "0.4618622660636902 0.5835433006286621\n",
      "0.43611544370651245 0.2668633460998535\n",
      "0.44652554392814636 0.8146049976348877\n",
      "0.24484191834926605 0.1921578347682953\n",
      "0.21970593929290771 0.20189550518989563\n",
      "0.12876316905021667 0.21596823632717133\n",
      "0.4721710681915283 0.2460651695728302\n",
      "0.23301178216934204 0.4804774522781372\n",
      "0.30621588230133057 0.7889043688774109\n",
      "0.41299304366111755 0.6085582375526428\n",
      "0.1690666675567627 0.12667207419872284\n",
      "0.3470315933227539 0.5383227467536926\n",
      "0.48484325408935547 0.16211405396461487\n",
      "0.25737905502319336 0.8018718361854553\n",
      "0.3071708679199219 0.27244675159454346\n",
      "0.16723036766052246 0.22672784328460693\n",
      "0.15981876850128174 0.21003508567810059\n",
      "0.24768275022506714 0.15523965656757355\n",
      "0.2851368188858032 0.5687544941902161\n",
      "0.21143439412117004 0.04581218212842941\n",
      "0.20988522469997406 0.22407785058021545\n",
      "0.28468015789985657 0.07397755235433578\n",
      "0.1301029920578003 0.11825534701347351\n",
      "0.18588316440582275 0.47935032844543457\n",
      "0.20475473999977112 0.12862037122249603\n",
      "0.26380905508995056 0.13149629533290863\n",
      "0.24276483058929443 0.15354986488819122\n",
      "0.609420895576477 0.10654670000076294\n",
      "0.3063909113407135 0.09329337626695633\n",
      "0.26532649993896484 0.10009194910526276\n",
      "0.1909877508878708 0.24952301383018494\n",
      "0.28785163164138794 0.16844604909420013\n",
      "0.20746517181396484 0.18357932567596436\n",
      "0.4401555061340332 0.5781590342521667\n",
      "0.2754005789756775 0.16209226846694946\n",
      "0.3051741123199463 0.5504918098449707\n",
      "0.37249380350112915 0.31622403860092163\n",
      "0.15493661165237427 0.38115715980529785\n",
      "0.2568250298500061 0.11662182211875916\n",
      "0.3419179320335388 0.5628408193588257\n",
      "0.4089500904083252 0.5222632884979248\n",
      "0.6652028560638428 0.22126048803329468\n",
      "0.3779482841491699 0.680938720703125\n",
      "0.3512916564941406 0.3193667531013489\n",
      "0.15313881635665894 0.5636094808578491\n",
      "0.2634889483451843 0.7418816089630127\n",
      "0.13037672638893127 0.06693176925182343\n",
      "0.30832546949386597 0.06700344383716583\n",
      "0.34638720750808716 0.07434018701314926\n",
      "0.4388192594051361 0.08106492459774017\n",
      "0.22248464822769165 0.11837983131408691\n",
      "0.24363061785697937 0.20957699418067932\n",
      "0.5194635391235352 0.021257493644952774\n",
      "0.15214107930660248 0.17299632728099823\n",
      "0.33228152990341187 0.27089953422546387\n",
      "0.27792054414749146 0.15489058196544647\n",
      "0.47222191095352173 0.19365158677101135\n",
      "0.20375822484493256 0.1888323724269867\n",
      "0.1911168098449707 0.2067135125398636\n",
      "0.15927772223949432 0.022247573360800743\n",
      "0.20341014862060547 0.09868806600570679\n",
      "0.43181630969047546 0.04722233861684799\n",
      "0.23989024758338928 0.2207043468952179\n",
      "0.21063189208507538 0.060686808079481125\n"
     ]
    },
    {
     "ename": "KeyboardInterrupt",
     "evalue": "",
     "output_type": "error",
     "traceback": [
      "\u001b[0;31m---------------------------------------------------------------------------\u001b[0m",
      "\u001b[0;31mKeyboardInterrupt\u001b[0m                         Traceback (most recent call last)",
      "\u001b[0;32m<ipython-input-67-942ab704cd3c>\u001b[0m in \u001b[0;36m<module>\u001b[0;34m\u001b[0m\n\u001b[1;32m     32\u001b[0m \u001b[0;34m\u001b[0m\u001b[0m\n\u001b[1;32m     33\u001b[0m         \u001b[0;32mfor\u001b[0m \u001b[0mi\u001b[0m \u001b[0;32min\u001b[0m \u001b[0mrange\u001b[0m\u001b[0;34m(\u001b[0m\u001b[0mlen\u001b[0m\u001b[0;34m(\u001b[0m\u001b[0mbatch\u001b[0m\u001b[0;34m)\u001b[0m\u001b[0;34m)\u001b[0m\u001b[0;34m:\u001b[0m\u001b[0;34m\u001b[0m\u001b[0;34m\u001b[0m\u001b[0m\n\u001b[0;32m---> 34\u001b[0;31m             \u001b[0mloss_decoder\u001b[0m \u001b[0;34m+=\u001b[0m \u001b[0;36m10\u001b[0m\u001b[0;34m*\u001b[0m\u001b[0;34m(\u001b[0m\u001b[0mloss\u001b[0m\u001b[0;34m(\u001b[0m\u001b[0mz\u001b[0m\u001b[0;34m[\u001b[0m\u001b[0mi\u001b[0m\u001b[0;34m]\u001b[0m\u001b[0;34m,\u001b[0m \u001b[0mn_data\u001b[0m\u001b[0;34m[\u001b[0m\u001b[0mi\u001b[0m\u001b[0;34m]\u001b[0m\u001b[0;34m)\u001b[0m\u001b[0;34m**\u001b[0m\u001b[0;36m2\u001b[0m\u001b[0;34m)\u001b[0m\u001b[0;34m\u001b[0m\u001b[0;34m\u001b[0m\u001b[0m\n\u001b[0m\u001b[1;32m     35\u001b[0m             \u001b[0mloss_decoder\u001b[0m \u001b[0;34m=\u001b[0m \u001b[0mloss_decoder\u001b[0m\u001b[0;34m/\u001b[0m\u001b[0mlen\u001b[0m\u001b[0;34m(\u001b[0m\u001b[0mbatch\u001b[0m\u001b[0;34m)\u001b[0m\u001b[0;34m\u001b[0m\u001b[0;34m\u001b[0m\u001b[0m\n\u001b[1;32m     36\u001b[0m \u001b[0;34m\u001b[0m\u001b[0m\n",
      "\u001b[0;32m/gpfs/ysm/project/dijk/as3837/conda_envs/py37_dev/lib/python3.6/site-packages/torch/nn/modules/module.py\u001b[0m in \u001b[0;36m__call__\u001b[0;34m(self, *input, **kwargs)\u001b[0m\n\u001b[1;32m    530\u001b[0m             \u001b[0mresult\u001b[0m \u001b[0;34m=\u001b[0m \u001b[0mself\u001b[0m\u001b[0;34m.\u001b[0m\u001b[0m_slow_forward\u001b[0m\u001b[0;34m(\u001b[0m\u001b[0;34m*\u001b[0m\u001b[0minput\u001b[0m\u001b[0;34m,\u001b[0m \u001b[0;34m**\u001b[0m\u001b[0mkwargs\u001b[0m\u001b[0;34m)\u001b[0m\u001b[0;34m\u001b[0m\u001b[0;34m\u001b[0m\u001b[0m\n\u001b[1;32m    531\u001b[0m         \u001b[0;32melse\u001b[0m\u001b[0;34m:\u001b[0m\u001b[0;34m\u001b[0m\u001b[0;34m\u001b[0m\u001b[0m\n\u001b[0;32m--> 532\u001b[0;31m             \u001b[0mresult\u001b[0m \u001b[0;34m=\u001b[0m \u001b[0mself\u001b[0m\u001b[0;34m.\u001b[0m\u001b[0mforward\u001b[0m\u001b[0;34m(\u001b[0m\u001b[0;34m*\u001b[0m\u001b[0minput\u001b[0m\u001b[0;34m,\u001b[0m \u001b[0;34m**\u001b[0m\u001b[0mkwargs\u001b[0m\u001b[0;34m)\u001b[0m\u001b[0;34m\u001b[0m\u001b[0;34m\u001b[0m\u001b[0m\n\u001b[0m\u001b[1;32m    533\u001b[0m         \u001b[0;32mfor\u001b[0m \u001b[0mhook\u001b[0m \u001b[0;32min\u001b[0m \u001b[0mself\u001b[0m\u001b[0;34m.\u001b[0m\u001b[0m_forward_hooks\u001b[0m\u001b[0;34m.\u001b[0m\u001b[0mvalues\u001b[0m\u001b[0;34m(\u001b[0m\u001b[0;34m)\u001b[0m\u001b[0;34m:\u001b[0m\u001b[0;34m\u001b[0m\u001b[0;34m\u001b[0m\u001b[0m\n\u001b[1;32m    534\u001b[0m             \u001b[0mhook_result\u001b[0m \u001b[0;34m=\u001b[0m \u001b[0mhook\u001b[0m\u001b[0;34m(\u001b[0m\u001b[0mself\u001b[0m\u001b[0;34m,\u001b[0m \u001b[0minput\u001b[0m\u001b[0;34m,\u001b[0m \u001b[0mresult\u001b[0m\u001b[0;34m)\u001b[0m\u001b[0;34m\u001b[0m\u001b[0;34m\u001b[0m\u001b[0m\n",
      "\u001b[0;32m/gpfs/ysm/project/dijk/as3837/conda_envs/py37_dev/lib/python3.6/site-packages/geomloss/samples_loss.py\u001b[0m in \u001b[0;36mforward\u001b[0;34m(self, *args)\u001b[0m\n\u001b[1;32m    235\u001b[0m                     \u001b[0mdebias\u001b[0m \u001b[0;34m=\u001b[0m \u001b[0mself\u001b[0m\u001b[0;34m.\u001b[0m\u001b[0mdebias\u001b[0m\u001b[0;34m,\u001b[0m \u001b[0mpotentials\u001b[0m \u001b[0;34m=\u001b[0m \u001b[0mself\u001b[0m\u001b[0;34m.\u001b[0m\u001b[0mpotentials\u001b[0m\u001b[0;34m,\u001b[0m\u001b[0;34m\u001b[0m\u001b[0;34m\u001b[0m\u001b[0m\n\u001b[1;32m    236\u001b[0m                     \u001b[0mlabels_x\u001b[0m \u001b[0;34m=\u001b[0m \u001b[0ml_x\u001b[0m\u001b[0;34m,\u001b[0m \u001b[0mlabels_y\u001b[0m \u001b[0;34m=\u001b[0m \u001b[0ml_y\u001b[0m\u001b[0;34m,\u001b[0m\u001b[0;34m\u001b[0m\u001b[0;34m\u001b[0m\u001b[0m\n\u001b[0;32m--> 237\u001b[0;31m                     verbose = self.verbose )\n\u001b[0m\u001b[1;32m    238\u001b[0m \u001b[0;34m\u001b[0m\u001b[0m\n\u001b[1;32m    239\u001b[0m \u001b[0;34m\u001b[0m\u001b[0m\n",
      "\u001b[0;32m/gpfs/ysm/project/dijk/as3837/conda_envs/py37_dev/lib/python3.6/site-packages/geomloss/sinkhorn_samples.py\u001b[0m in \u001b[0;36msinkhorn_tensorized\u001b[0;34m(α, x, β, y, p, blur, reach, diameter, scaling, cost, debias, potentials, **kwargs)\u001b[0m\n\u001b[1;32m     50\u001b[0m     a_x, b_y, a_y, b_x = sinkhorn_loop( softmin_tensorized, \n\u001b[1;32m     51\u001b[0m                                         \u001b[0mlog_weights\u001b[0m\u001b[0;34m(\u001b[0m\u001b[0mα\u001b[0m\u001b[0;34m)\u001b[0m\u001b[0;34m,\u001b[0m \u001b[0mlog_weights\u001b[0m\u001b[0;34m(\u001b[0m\u001b[0mβ\u001b[0m\u001b[0;34m)\u001b[0m\u001b[0;34m,\u001b[0m\u001b[0;34m\u001b[0m\u001b[0;34m\u001b[0m\u001b[0m\n\u001b[0;32m---> 52\u001b[0;31m                                         C_xx, C_yy, C_xy, C_yx, ε_s, ρ, debias=debias )\n\u001b[0m\u001b[1;32m     53\u001b[0m \u001b[0;34m\u001b[0m\u001b[0m\n\u001b[1;32m     54\u001b[0m     \u001b[0;32mreturn\u001b[0m \u001b[0msinkhorn_cost\u001b[0m\u001b[0;34m(\u001b[0m\u001b[0mε\u001b[0m\u001b[0;34m,\u001b[0m \u001b[0mρ\u001b[0m\u001b[0;34m,\u001b[0m \u001b[0mα\u001b[0m\u001b[0;34m,\u001b[0m \u001b[0mβ\u001b[0m\u001b[0;34m,\u001b[0m \u001b[0ma_x\u001b[0m\u001b[0;34m,\u001b[0m \u001b[0mb_y\u001b[0m\u001b[0;34m,\u001b[0m \u001b[0ma_y\u001b[0m\u001b[0;34m,\u001b[0m \u001b[0mb_x\u001b[0m\u001b[0;34m,\u001b[0m \u001b[0mbatch\u001b[0m\u001b[0;34m=\u001b[0m\u001b[0;32mTrue\u001b[0m\u001b[0;34m,\u001b[0m \u001b[0mdebias\u001b[0m\u001b[0;34m=\u001b[0m\u001b[0mdebias\u001b[0m\u001b[0;34m,\u001b[0m \u001b[0mpotentials\u001b[0m\u001b[0;34m=\u001b[0m\u001b[0mpotentials\u001b[0m\u001b[0;34m)\u001b[0m\u001b[0;34m\u001b[0m\u001b[0;34m\u001b[0m\u001b[0m\n",
      "\u001b[0;32m/gpfs/ysm/project/dijk/as3837/conda_envs/py37_dev/lib/python3.6/site-packages/geomloss/sinkhorn_divergence.py\u001b[0m in \u001b[0;36msinkhorn_loop\u001b[0;34m(softmin, α_logs, β_logs, C_xxs, C_yys, C_xys, C_yxs, ε_s, ρ, jumps, kernel_truncation, truncate, cost, extrapolate, debias, last_extrapolation)\u001b[0m\n\u001b[1;32m    162\u001b[0m             \u001b[0mat_x\u001b[0m \u001b[0;34m=\u001b[0m \u001b[0mλ\u001b[0m \u001b[0;34m*\u001b[0m \u001b[0msoftmin\u001b[0m\u001b[0;34m(\u001b[0m\u001b[0mε\u001b[0m\u001b[0;34m,\u001b[0m \u001b[0mC_xx\u001b[0m\u001b[0;34m,\u001b[0m \u001b[0mα_log\u001b[0m \u001b[0;34m+\u001b[0m \u001b[0ma_x\u001b[0m\u001b[0;34m/\u001b[0m\u001b[0mε\u001b[0m \u001b[0;34m)\u001b[0m  \u001b[0;31m# OT(α,α)\u001b[0m\u001b[0;34m\u001b[0m\u001b[0;34m\u001b[0m\u001b[0m\n\u001b[1;32m    163\u001b[0m             \u001b[0mbt_y\u001b[0m \u001b[0;34m=\u001b[0m \u001b[0mλ\u001b[0m \u001b[0;34m*\u001b[0m \u001b[0msoftmin\u001b[0m\u001b[0;34m(\u001b[0m\u001b[0mε\u001b[0m\u001b[0;34m,\u001b[0m \u001b[0mC_yy\u001b[0m\u001b[0;34m,\u001b[0m \u001b[0mβ_log\u001b[0m \u001b[0;34m+\u001b[0m \u001b[0mb_y\u001b[0m\u001b[0;34m/\u001b[0m\u001b[0mε\u001b[0m \u001b[0;34m)\u001b[0m  \u001b[0;31m# OT(β,β)\u001b[0m\u001b[0;34m\u001b[0m\u001b[0;34m\u001b[0m\u001b[0m\n\u001b[0;32m--> 164\u001b[0;31m         \u001b[0mat_y\u001b[0m \u001b[0;34m=\u001b[0m \u001b[0mλ\u001b[0m \u001b[0;34m*\u001b[0m \u001b[0msoftmin\u001b[0m\u001b[0;34m(\u001b[0m\u001b[0mε\u001b[0m\u001b[0;34m,\u001b[0m \u001b[0mC_yx\u001b[0m\u001b[0;34m,\u001b[0m \u001b[0mα_log\u001b[0m \u001b[0;34m+\u001b[0m \u001b[0mb_x\u001b[0m\u001b[0;34m/\u001b[0m\u001b[0mε\u001b[0m \u001b[0;34m)\u001b[0m  \u001b[0;31m# OT(α,β) wrt. a\u001b[0m\u001b[0;34m\u001b[0m\u001b[0;34m\u001b[0m\u001b[0m\n\u001b[0m\u001b[1;32m    165\u001b[0m         \u001b[0mbt_x\u001b[0m \u001b[0;34m=\u001b[0m \u001b[0mλ\u001b[0m \u001b[0;34m*\u001b[0m \u001b[0msoftmin\u001b[0m\u001b[0;34m(\u001b[0m\u001b[0mε\u001b[0m\u001b[0;34m,\u001b[0m \u001b[0mC_xy\u001b[0m\u001b[0;34m,\u001b[0m \u001b[0mβ_log\u001b[0m \u001b[0;34m+\u001b[0m \u001b[0ma_y\u001b[0m\u001b[0;34m/\u001b[0m\u001b[0mε\u001b[0m \u001b[0;34m)\u001b[0m  \u001b[0;31m# OT(α,β) wrt. b\u001b[0m\u001b[0;34m\u001b[0m\u001b[0;34m\u001b[0m\u001b[0m\n\u001b[1;32m    166\u001b[0m \u001b[0;34m\u001b[0m\u001b[0m\n",
      "\u001b[0;32m/gpfs/ysm/project/dijk/as3837/conda_envs/py37_dev/lib/python3.6/site-packages/geomloss/sinkhorn_samples.py\u001b[0m in \u001b[0;36msoftmin_tensorized\u001b[0;34m(ε, C, f)\u001b[0m\n\u001b[1;32m     31\u001b[0m \u001b[0;32mdef\u001b[0m \u001b[0msoftmin_tensorized\u001b[0m\u001b[0;34m(\u001b[0m\u001b[0mε\u001b[0m\u001b[0;34m,\u001b[0m \u001b[0mC\u001b[0m\u001b[0;34m,\u001b[0m \u001b[0mf\u001b[0m\u001b[0;34m)\u001b[0m\u001b[0;34m:\u001b[0m\u001b[0;34m\u001b[0m\u001b[0;34m\u001b[0m\u001b[0m\n\u001b[1;32m     32\u001b[0m     \u001b[0mB\u001b[0m \u001b[0;34m=\u001b[0m \u001b[0mC\u001b[0m\u001b[0;34m.\u001b[0m\u001b[0mshape\u001b[0m\u001b[0;34m[\u001b[0m\u001b[0;36m0\u001b[0m\u001b[0;34m]\u001b[0m\u001b[0;34m\u001b[0m\u001b[0;34m\u001b[0m\u001b[0m\n\u001b[0;32m---> 33\u001b[0;31m     \u001b[0;32mreturn\u001b[0m \u001b[0;34m-\u001b[0m \u001b[0mε\u001b[0m \u001b[0;34m*\u001b[0m \u001b[0;34m(\u001b[0m \u001b[0mf\u001b[0m\u001b[0;34m.\u001b[0m\u001b[0mview\u001b[0m\u001b[0;34m(\u001b[0m\u001b[0mB\u001b[0m\u001b[0;34m,\u001b[0m\u001b[0;36m1\u001b[0m\u001b[0;34m,\u001b[0m\u001b[0;34m-\u001b[0m\u001b[0;36m1\u001b[0m\u001b[0;34m)\u001b[0m \u001b[0;34m-\u001b[0m \u001b[0mC\u001b[0m\u001b[0;34m/\u001b[0m\u001b[0mε\u001b[0m \u001b[0;34m)\u001b[0m\u001b[0;34m.\u001b[0m\u001b[0mlogsumexp\u001b[0m\u001b[0;34m(\u001b[0m\u001b[0;36m2\u001b[0m\u001b[0;34m)\u001b[0m\u001b[0;34m.\u001b[0m\u001b[0mview\u001b[0m\u001b[0;34m(\u001b[0m\u001b[0;34m-\u001b[0m\u001b[0;36m1\u001b[0m\u001b[0;34m)\u001b[0m\u001b[0;34m\u001b[0m\u001b[0;34m\u001b[0m\u001b[0m\n\u001b[0m\u001b[1;32m     34\u001b[0m \u001b[0;34m\u001b[0m\u001b[0m\n\u001b[1;32m     35\u001b[0m def sinkhorn_tensorized(α, x, β, y, p=2, blur=.05, reach=None, diameter=None, scaling=.5, cost=None, \n",
      "\u001b[0;31mKeyboardInterrupt\u001b[0m: "
     ]
    }
   ],
   "source": [
    "num_epochs = 300\n",
    "running_loss = []\n",
    "for t in range(num_epochs):\n",
    "    \n",
    "    for n_batch, batch in enumerate(loader):\n",
    "        n_data = Variable(batch.to(device), requires_grad=True)\n",
    "        a = torch.rand(1).to(device)\n",
    "        b = torch.rand(2).to(device)\n",
    "       \n",
    "    \n",
    "        optimizer_encoder.zero_grad()\n",
    "        optimizer_decoder.zero_grad()\n",
    "        \n",
    "#         w = torch.empty(n_data.shape)\n",
    "#         noise = Variable(nn.init.normal_(w, mean=0.0, std=.001), requires_grad=True).to(device)\n",
    "        y = encoder(n_data)\n",
    "#         y1 = encoder(n_data + noise)\n",
    "        y_a = encoder(a*n_data)\n",
    "        y_translate = encoder(n_data + b)\n",
    "        \n",
    "        \n",
    "        z = decoder(y)\n",
    "        \n",
    " \n",
    "        \n",
    "        loss_encoder = 0\n",
    "        loss_decoder = 0\n",
    "#         loss_encoder = calculate_loss(batch, n_data, a, y, y_a, y_translate)\n",
    "#         loss_encoder = loss_encoder/(len(batch)*(len(batch)-1)/2)\n",
    "        \n",
    "        \n",
    "       \n",
    "        for i in range(len(batch)):\n",
    "            loss_decoder += 10*(loss(z[i], n_data[i])**2)\n",
    "            loss_decoder = loss_decoder/len(batch)\n",
    "            \n",
    "            for j in range(i+1,len(batch)):\n",
    "                \n",
    "                y_ij = torch.norm(y[i]-y[j], p=2)\n",
    "                w_ij = sinkhorn(n_data[i],n_data[j]) \n",
    "                \n",
    "                ya_ij = torch.norm(y_a[i]-y_a[j], p=2)\n",
    "                y_translate_ij = torch.norm(y_translate[i]-y_translate[j], p=2)\n",
    "                \n",
    "                diff_translate_ij = torch.norm(y_translate[i]-y[j], p=2)**2\n",
    "                \n",
    "    \n",
    "                loss_encoder += torch.norm(y_ij-w_ij, p=2) + (ya_ij-a*y_ij)**2 + (y_translate_ij- y_ij)**2\n",
    "                \n",
    "                del w_ij\n",
    "        #TODO FIX THE LAST TERMS WITH PAIRWISE DISTANCES (SEE PYTORCH CODE)\n",
    "        \n",
    "        \n",
    "        loss_encoder = loss_encoder/(len(batch)*(len(batch)-1)/2)\n",
    "    \n",
    "        \n",
    "        loss_batch = loss_encoder + loss_decoder\n",
    "       \n",
    "        loss_batch.backward(retain_graph=False)\n",
    "       \n",
    "        optimizer_decoder.step()\n",
    "        optimizer_encoder.step()\n",
    "        \n",
    "        torch.cuda.empty_cache() \n",
    "    \n",
    "        \n",
    "    running_loss.append(loss_batch.item())\n",
    "    print(loss_encoder.item(), loss_decoder.item())\n",
    "   \n",
    "   "
   ]
  },
  {
   "cell_type": "code",
   "execution_count": 68,
   "metadata": {},
   "outputs": [
    {
     "data": {
      "text/plain": [
       "283"
      ]
     },
     "execution_count": 68,
     "metadata": {},
     "output_type": "execute_result"
    }
   ],
   "source": [
    "len(running_loss)"
   ]
  },
  {
   "cell_type": "code",
   "execution_count": 78,
   "metadata": {},
   "outputs": [],
   "source": [
    "#decoder loss is now changed to EMD loss\n",
    "torch.save({\n",
    "    \n",
    "            'model_state_dict': encoder.state_dict(),\n",
    "            'optimizer_state_dict': optimizer_encoder.state_dict(),\n",
    "            'loss': loss\n",
    "            \n",
    "            }, 'autoencoder_encoder_unstructured_trywithemd.pt')\n",
    "\n",
    "torch.save({\n",
    "    \n",
    "            'model_state_dict': decoder.state_dict(),\n",
    "            'optimizer_state_dict': optimizer_decoder.state_dict(),\n",
    "            'loss': loss\n",
    "            \n",
    "            }, 'autoencoder_decoder_unstructured_emd.pt')"
   ]
  },
  {
   "cell_type": "code",
   "execution_count": 54,
   "metadata": {},
   "outputs": [
    {
     "data": {
      "text/plain": [
       "<matplotlib.collections.PathCollection at 0x2ae84fa55898>"
      ]
     },
     "execution_count": 54,
     "metadata": {},
     "output_type": "execute_result"
    },
    {
     "data": {
      "image/png": "[encoded data removed]",
      "text/plain": [
       "<Figure size 432x288 with 1 Axes>"
      ]
     },
     "metadata": {
      "needs_background": "light"
     },
     "output_type": "display_data"
    }
   ],
   "source": [
    "plt.scatter(X.reshape(10000,2)[:,0], X.reshape(10000,2)[:,1])"
   ]
  },
  {
   "cell_type": "code",
   "execution_count": 70,
   "metadata": {},
   "outputs": [],
   "source": [
    "pca = PCA(2)"
   ]
  },
  {
   "cell_type": "code",
   "execution_count": null,
   "metadata": {},
   "outputs": [],
   "source": [
    "Y = torch.from_numpy(X)"
   ]
  },
  {
   "cell_type": "code",
   "execution_count": 71,
   "metadata": {},
   "outputs": [],
   "source": [
    "y = encoder(Y.to(device).float())"
   ]
  },
  {
   "cell_type": "code",
   "execution_count": 72,
   "metadata": {},
   "outputs": [
    {
     "data": {
      "text/plain": [
       "PCA(copy=True, iterated_power='auto', n_components=2, random_state=None,\n",
       "    svd_solver='auto', tol=0.0, whiten=False)"
      ]
     },
     "execution_count": 72,
     "metadata": {},
     "output_type": "execute_result"
    }
   ],
   "source": [
    "pca.fit(y.detach().cpu().numpy())"
   ]
  },
  {
   "cell_type": "code",
   "execution_count": 73,
   "metadata": {},
   "outputs": [],
   "source": [
    "y_pca = pca.transform(y.detach().cpu().numpy())"
   ]
  },
  {
   "cell_type": "code",
   "execution_count": 74,
   "metadata": {},
   "outputs": [
    {
     "data": {
      "text/plain": [
       "<matplotlib.collections.PathCollection at 0x2ae84fc255c0>"
      ]
     },
     "execution_count": 74,
     "metadata": {},
     "output_type": "execute_result"
    },
    {
     "data": {
      "image/png": "[encoded data removed]",
      "text/plain": [
       "<Figure size 432x288 with 1 Axes>"
      ]
     },
     "metadata": {
      "needs_background": "light"
     },
     "output_type": "display_data"
    }
   ],
   "source": [
    "plt.scatter(y_pca[:,0],y_pca[:,1])"
   ]
  },
  {
   "cell_type": "code",
   "execution_count": 76,
   "metadata": {},
   "outputs": [],
   "source": [
    "z = decoder(encoder(Y.to(device).float()))"
   ]
  },
  {
   "cell_type": "code",
   "execution_count": 77,
   "metadata": {},
   "outputs": [
    {
     "data": {
      "text/plain": [
       "<matplotlib.collections.PathCollection at 0x2ae84fc76588>"
      ]
     },
     "execution_count": 77,
     "metadata": {},
     "output_type": "execute_result"
    },
    {
     "data": {
      "image/png": "[encoded data removed]",
      "text/plain": [
       "<Figure size 432x288 with 1 Axes>"
      ]
     },
     "metadata": {
      "needs_background": "light"
     },
     "output_type": "display_data"
    }
   ],
   "source": [
    "plt.scatter(z.detach().cpu().reshape(10000,2)[:,0], z.detach().cpu().reshape(10000,2)[:,1])"
   ]
  },
  {
   "cell_type": "code",
   "execution_count": null,
   "metadata": {},
   "outputs": [],
   "source": []
  }
 ],
 "metadata": {
  "kernelspec": {
   "display_name": "Python 3",
   "language": "python",
   "name": "python3"
  },
  "language_info": {
   "codemirror_mode": {
    "name": "ipython",
    "version": 3
   },
   "file_extension": ".py",
   "mimetype": "text/x-python",
   "name": "python",
   "nbconvert_exporter": "python",
   "pygments_lexer": "ipython3",
   "version": "3.7.8"
  }
 },
 "nbformat": 4,
 "nbformat_minor": 2
}
